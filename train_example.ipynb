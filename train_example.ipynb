{
 "cells": [
  {
   "cell_type": "code",
   "execution_count": 1,
   "id": "cf31c091",
   "metadata": {},
   "outputs": [
    {
     "name": "stdout",
     "output_type": "stream",
     "text": [
      "Metal device set to: Apple M1\n"
     ]
    },
    {
     "name": "stderr",
     "output_type": "stream",
     "text": [
      "2022-03-23 14:46:37.264259: I tensorflow/core/common_runtime/pluggable_device/pluggable_device_factory.cc:305] Could not identify NUMA node of platform GPU ID 0, defaulting to 0. Your kernel may not have been built with NUMA support.\n",
      "2022-03-23 14:46:37.264362: I tensorflow/core/common_runtime/pluggable_device/pluggable_device_factory.cc:271] Created TensorFlow device (/job:localhost/replica:0/task:0/device:GPU:0 with 0 MB memory) -> physical PluggableDevice (device: 0, name: METAL, pci bus id: <undefined>)\n"
     ]
    }
   ],
   "source": [
    "### original dataset\n",
    "import tensorflow as tf\n",
    "config = tf.compat.v1.ConfigProto() \n",
    "config.gpu_options.per_process_gpu_memory_fraction = 0.8\n",
    "config.gpu_options.allow_growth = True\n",
    "sess = tf.compat.v1.Session(config=config)"
   ]
  },
  {
   "cell_type": "code",
   "execution_count": 2,
   "id": "a706423c",
   "metadata": {},
   "outputs": [],
   "source": [
    "import os\n",
    "from os import listdir\n",
    "from os.path import isfile, join\n",
    "\n",
    "import math\n",
    "import random\n",
    "\n",
    "\n",
    "from datetime import datetime\n",
    "\n",
    "import cv2\n",
    "import numpy as np\n",
    "\n",
    "import matplotlib.pyplot as plt\n",
    "\n",
    "import imgaug as ia\n",
    "import imgaug.augmenters as iaa\n",
    "\n",
    "from sklearn.utils import class_weight\n",
    "\n",
    "from tensorflow.keras.utils import Sequence"
   ]
  },
  {
   "cell_type": "markdown",
   "id": "fe6bd5c7",
   "metadata": {},
   "source": [
    "# 데이터 준비"
   ]
  },
  {
   "cell_type": "code",
   "execution_count": 3,
   "id": "f9fe5643",
   "metadata": {},
   "outputs": [],
   "source": [
    "def get_filelist(file_dir):\n",
    "    \"\"\"\n",
    "    Get a list of files in a path.\n",
    "    Args:\n",
    "        file_dir: dataset path\n",
    "    Returns:\n",
    "        file_list: list of files the dataset path\n",
    "        class_list: list of classname the dataset path\n",
    "    \"\"\"\n",
    "    included_extensions = ['jpg','jpeg', 'bmp', 'png', 'gif']\n",
    "\n",
    "    class_list = []\n",
    "    file_list = []\n",
    "    for i, (dirpath, dirnames, filenames) in enumerate(os.walk(file_dir)):\n",
    "        if i==0:\n",
    "            class_list = dirnames\n",
    "        file_list += [os.path.join(dirpath, fn) for fn in filenames\n",
    "                       if any(fn.lower().endswith(ext) for ext in included_extensions)]\n",
    "        \n",
    "    class_list.sort()\n",
    "    return file_list, class_list\n",
    "\n",
    "def get_word2int(class_list):\n",
    "    \"\"\"\n",
    "    A dictionary that converts text classes to numbers.\n",
    "    Args:\n",
    "        class_list: [char1, char2, char3,...,charN], (example) [\"a0\",\"b1\",\"c1\",\"bc1\"]\n",
    "    Returns:\n",
    "        char_to_int: {char: int, ...}\n",
    "        int_to_char: {int: char, ...}\n",
    "    \"\"\"\n",
    "    # define a mapping of chars to integers\n",
    "    char_to_int = dict((c, i) for i, c in enumerate(class_list))\n",
    "    int_to_char = dict((i, c) for i, c in enumerate(class_list))\n",
    "    return char_to_int, int_to_char\n",
    "\n",
    "def one_hot(a, num_classes):\n",
    "    \"\"\"\n",
    "    One-hot encoding conversion of integers.\n",
    "    Args:\n",
    "        a: class number converted to integer\n",
    "        num_classes: Total number of classes\n",
    "    Returns:\n",
    "        One-hot encoding results\n",
    "    \"\"\"\n",
    "    return np.eye(num_classes)[a]\n",
    "\n",
    "def create_dir(dir_name):\n",
    "    \"\"\"Creating directory\n",
    "    Args:\n",
    "        dir_name: directory name\n",
    "    \"\"\"\n",
    "    if os.path.isdir(dir_name)==False:\n",
    "        os.makedirs(dir_name)\n",
    "        print(\"create directory: \", dir_name)"
   ]
  },
  {
   "cell_type": "code",
   "execution_count": 4,
   "id": "32e0d1fd",
   "metadata": {},
   "outputs": [],
   "source": [
    "# set image augumentation\n",
    "ia.seed(1)\n",
    "\n",
    "sometimes02 = lambda aug: iaa.Sometimes(0.2, aug)\n",
    "sometimes05 = lambda aug: iaa.Sometimes(0.5, aug)\n",
    "sometimes08 = lambda aug: iaa.Sometimes(0.8, aug)\n",
    "\n",
    "seq_img_filter = iaa.Sequential([\n",
    "        iaa.Fliplr(0.5),\n",
    "        sometimes08(iaa.Affine(\n",
    "            scale={\"x\": (0.9, 1.0), \"y\": (0.9, 1.05)}, # scale images to 80-120% of their size, individually per axis\n",
    "            translate_percent={\"x\": (-0.1, 0.1), \"y\": (-0.1, 0.1)}, # translate by -20 to +20 percent (per axis)\n",
    "            rotate=(-15, 15), # rotate by -45 to +45 degrees\n",
    "            #shear=(-5, 5), # shear by -16 to +16 degrees\n",
    "        ),\n",
    "                   ),\n",
    "])\n",
    "\n",
    "noise_fillter = iaa.Sequential([\n",
    "                sometimes05(iaa.OneOf([\n",
    "                    iaa.GaussianBlur((0, 0.3)), # blur images with a sigma between 0 and 3.0\n",
    "                    iaa.AverageBlur(k=(2, 5)), # blur image using local means with kernel sizes between 2 and 7\n",
    "                    iaa.MedianBlur(k=(3, 5)), # blur image using local medians with kernel sizes between 2 and 7\n",
    "                ])),\n",
    "                sometimes05([\n",
    "                    #iaa.SaltAndPepper(0.01, 0.05),\n",
    "                    iaa.AdditiveGaussianNoise(loc=0, scale=(0.0, 0.05*255), per_channel=0.5), # add gaussian noise to images\n",
    "                    iaa.GammaContrast((0.5, 2.0), per_channel=True)\n",
    "                ]),\n",
    "\n",
    "])\n"
   ]
  },
  {
   "cell_type": "code",
   "execution_count": 5,
   "id": "ad21c96a",
   "metadata": {},
   "outputs": [],
   "source": [
    "def get_class_data_num(file_list, class_list, class_char2int):\n",
    "    \"\"\"\n",
    "    Set the number of dataset files by class\n",
    "    Args:\n",
    "         file_list: List of dataset file paths\n",
    "         class_list: List of dataset classes\n",
    "         class_char2int: a dictionary taking the string class as an int\n",
    "     Returns:\n",
    "         class_dict: A dictionary of the number of dataset files by class\n",
    "    \"\"\"\n",
    "    \n",
    "    class_dict = {}\n",
    "    for class_name in class_list:\n",
    "        class_dict[class_char2int[class_name]]=0\n",
    "        \n",
    "    for fn in file_list:\n",
    "        class_name = fn.split(\"/\")[-2]\n",
    "        class_dict[class_char2int[class_name]]+=1\n",
    "    return class_dict\n",
    "\n",
    "def create_class_weight(labels_dict, mu=0.15):\n",
    "    \"\"\"\n",
    "    tensorflow class weighting function\n",
    "    \"\"\"\n",
    "    total = np.sum(list(labels_dict.values()))\n",
    "    keys = labels_dict.keys()\n",
    "    class_weight = dict()\n",
    "    \n",
    "    for key in keys:\n",
    "        score = math.log(mu*total/float(labels_dict[key]))\n",
    "        class_weight[key] = score if score > 1.0 else 1.0\n",
    "    \n",
    "    return class_weight"
   ]
  },
  {
   "cell_type": "code",
   "execution_count": 6,
   "id": "75c7810c",
   "metadata": {},
   "outputs": [],
   "source": [
    "class CustomDataloader(Sequence):\n",
    "    def __init__(self, \n",
    "                 file_dir, \n",
    "                 batch_size, \n",
    "                 img_size,\n",
    "                 out_size=12,\n",
    "                 aug_op=False,\n",
    "                 shuffle=True,\n",
    "                 multi_op=False,\n",
    "                 sample_n=1024,\n",
    "                 ann_dir = \"./data/ann_4\"\n",
    "                 \n",
    "                ):\n",
    "        \"\"\"\n",
    "        Custum tensorflow dataloader\n",
    "        Args:\n",
    "            file_dir: Dataset directory path\n",
    "            batch_size: batch size\n",
    "            img_size: input image size\n",
    "            out_size: size of the output image\n",
    "            aug_op: use data augmentation boolean\n",
    "            shuffle: data shuffle data augmentation after 1 epoch\n",
    "            multi_op: ouput type -> True: [class label, eye nose mouth heat map], False: class label\n",
    "            sample_n: number of samples to use as data\n",
    "        \n",
    "        \"\"\"\n",
    "        \n",
    "        self.ann_dir = ann_dir\n",
    "        \n",
    "        self.file_list, self.class_list = get_filelist(file_dir)\n",
    "        random.seed(1)\n",
    "        random.shuffle(self.file_list)\n",
    "        \n",
    "        self.class_char2int, self.class_int2char = get_word2int(self.class_list)\n",
    "        \n",
    "        self.batch_size = batch_size\n",
    "        self.img_size = img_size\n",
    "        self.out_size = out_size\n",
    "        \n",
    "        self.aug_op = aug_op\n",
    "        self.shuffle = shuffle\n",
    "        self.multi_op = multi_op\n",
    "        self.sample_n = sample_n\n",
    "        \n",
    "        self.file_list = self.file_list[:self.sample_n] if self.sample_n>0 else self.file_list\n",
    "        \n",
    "        self.file_n = len(self.file_list)\n",
    "        self.class_n = len(self.class_list)\n",
    "        self.class_data_num = get_class_data_num(self.file_list, self.class_list, self.class_char2int)\n",
    "        self.on_epoch_end()\n",
    " \n",
    "    def __len__(self):\n",
    "        return math.ceil(self.file_n / self.batch_size)\n",
    "\n",
    "    def __getitem__(self, idx):\n",
    "        indices = self.indices[idx*self.batch_size:(idx+1)*self.batch_size]\n",
    "        \n",
    "        batch_x = []\n",
    "        batch_y1 = []\n",
    "        batch_y2 = []\n",
    "        self.batch_fn = []\n",
    "        for i in indices:\n",
    "            try:\n",
    "                img = cv2.imread(self.file_list[i], cv2.IMREAD_COLOR)\n",
    "                \n",
    "                if len(img)==0:\n",
    "                    continue\n",
    "                    \n",
    "                fine_name = self.file_list[i].split(\"/\")[-1]\n",
    "                if self.multi_op:\n",
    "                    heatmap_path = join(self.ann_dir, \"ann_\"+fine_name)\n",
    "                    if isfile(heatmap_path):\n",
    "                        heatmap_img = cv2.imread(heatmap_path, cv2.IMREAD_GRAYSCALE)\n",
    "\n",
    "                    else:\n",
    "                        heatmap_img = np.zeros([self.out_size,self.out_size],dtype=np.uint8)\n",
    "\n",
    "                if self.aug_op:\n",
    "                    #seq_img_filter = seq_img_filter.localize_random_state()\n",
    "                    \n",
    "                    # 회전, 크롭 등\n",
    "                    #seq_img_f = seq_img_filter.to_deterministic()\n",
    "                    #seq_img_f = seq_img_filter.to_deterministic()\n",
    "                    \n",
    "                    img = seq_img_filter.augment_image(img)\n",
    "                    if self.multi_op:\n",
    "                        heatmap_img = seq_img_f.augment_image(heatmap_img)\n",
    "                    \n",
    "                    # 블러, 노이즈 등\n",
    "                    #img = noise_fillter.augment_image(img)\n",
    "\n",
    "                w,h = img.shape[:2]\n",
    "                if w!=self.img_size or h!=self.img_size:\n",
    "                    img = cv2.resize(img, (self.img_size,self.img_size))\n",
    "\n",
    "                # input x\n",
    "                img = cv2.cvtColor(img, cv2.COLOR_BGR2RGB)/255. #-0.5\n",
    "                batch_x.append(img)\n",
    "                self.batch_fn.append([self.file_list[i], i])\n",
    "                \n",
    "                # label class name\n",
    "                class_name = self.file_list[i].split(\"/\")[-2]\n",
    "                class_idx = self.class_char2int[class_name]\n",
    "                class_one_hot = one_hot(class_idx,self.class_n)\n",
    "                batch_y1.append(class_one_hot)\n",
    "                \n",
    "                if self.multi_op:\n",
    "                    # label heatmap \n",
    "                    heatmap_img = cv2.resize(heatmap_img,(self.out_size,self.out_size))\n",
    "                    heatmap_img = heatmap_img.reshape(self.out_size*self.out_size)\n",
    "                    heatmap_img = heatmap_img/255.\n",
    "                    batch_y2.append(heatmap_img)\n",
    "                \n",
    "            except Exception as e:\n",
    "                print(\"e\",e)\n",
    "            \n",
    "        batch_x = np.array(batch_x)\n",
    "        batch_y1 = np.array(batch_y1)\n",
    "        batch_y2 = np.array(batch_y2)\n",
    "        \n",
    "        if self.multi_op:\n",
    "            return batch_x, [batch_y1, batch_y2]\n",
    "        else:\n",
    "            return batch_x, batch_y1\n",
    "    \n",
    "    def on_epoch_end(self):\n",
    "        self.indices = np.arange(self.file_n)\n",
    "        if self.shuffle == True:\n",
    "            np.random.shuffle(self.indices)\n",
    "        "
   ]
  },
  {
   "cell_type": "markdown",
   "id": "0e8cc78a",
   "metadata": {},
   "source": [
    "---\n",
    "## 데이터로더 생성"
   ]
  },
  {
   "cell_type": "code",
   "execution_count": 7,
   "id": "15299743",
   "metadata": {},
   "outputs": [],
   "source": [
    "img_size = 112\n",
    "# out_size= 12\n",
    "batch_size = 32\n",
    "multi_output = False\n",
    "\n",
    "dataset_dir = \"./data/face_datasets_5\"\n",
    "train_file_dir = join(dataset_dir,\"train\")\n",
    "val_file_dir = join(dataset_dir,\"val\")\n",
    "test_file_dir = join(dataset_dir,\"test\")\n",
    "\n",
    "train_loader = CustomDataloader(train_file_dir, batch_size, img_size, aug_op=True, sample_n=-1, multi_op=multi_output)\n",
    "val_loader = CustomDataloader(val_file_dir, batch_size, img_size, aug_op=False, sample_n=-1, multi_op=multi_output)\n",
    "test_loader = CustomDataloader(test_file_dir, batch_size, img_size, aug_op=False, sample_n=-1, multi_op=multi_output,shuffle=False)\n"
   ]
  },
  {
   "cell_type": "code",
   "execution_count": 8,
   "id": "b0deb510",
   "metadata": {},
   "outputs": [
    {
     "name": "stdout",
     "output_type": "stream",
     "text": [
      "class_int2char:  {0: 'a0', 1: 'b1', 2: 'bc1', 3: 'bg', 4: 'c1'}\n",
      "train_data_num:  15010\n",
      "class_data_num:  {0: 4769, 1: 1451, 2: 2370, 3: 1435, 4: 4985}\n"
     ]
    }
   ],
   "source": [
    "class_int2char = train_loader.class_int2char\n",
    "print(\"class_int2char: \",class_int2char)\n",
    "\n",
    "train_data_num = train_loader.file_n\n",
    "print(\"train_data_num: \",train_data_num)\n",
    "\n",
    "class_data_num = train_loader.class_data_num\n",
    "print(\"class_data_num: \", class_data_num)"
   ]
  },
  {
   "cell_type": "code",
   "execution_count": null,
   "id": "3c5a60c6",
   "metadata": {
    "scrolled": true
   },
   "outputs": [],
   "source": [
    "# show dataset\n",
    "\n",
    "n_batch = next(iter(train_loader))\n",
    "x, y = n_batch\n",
    "\n",
    "r_idx = random.randint(0,len(x)-1)\n",
    "\n",
    "file_name = train_loader.batch_fn[r_idx]\n",
    "print(\"file_name: \", file_name)\n",
    "\n",
    "plt.imshow(x[r_idx])\n",
    "plt.show()\n",
    "\n",
    "if multi_output:\n",
    "    label_class = y[0][r_idx]\n",
    "    label_img = y[1][r_idx].reshape(out_size,out_size)\n",
    "    plt.imshow(label_img)\n",
    "    plt.show()\n",
    "else:\n",
    "    label_class = y[r_idx]\n",
    "    \n",
    "print(\"class: \", class_int2char[np.argmax(label_class)])\n",
    "train_loader.on_epoch_end()"
   ]
  },
  {
   "cell_type": "markdown",
   "id": "6b4942ac",
   "metadata": {},
   "source": [
    "---\n",
    "## 모델 만들기"
   ]
  },
  {
   "cell_type": "code",
   "execution_count": 10,
   "id": "b1243c3f",
   "metadata": {},
   "outputs": [],
   "source": [
    "import tensorflow as tf"
   ]
  },
  {
   "cell_type": "code",
   "execution_count": 11,
   "id": "07f8c833",
   "metadata": {},
   "outputs": [],
   "source": [
    "# Learning Results Viewing Tool\n",
    "def vis(history, name) :\n",
    "    plt.title(f\"{name.upper()}\")\n",
    "    plt.xlabel('epochs')\n",
    "    plt.ylabel(f\"{name.lower()}\")\n",
    "    value = history.history.get(name)\n",
    "    val_value = history.history.get(f\"val_{name}\",None)\n",
    "    epochs = range(1, len(value)+1)\n",
    "    plt.plot(epochs, value, 'b-', label=f'training {name}')\n",
    "    if val_value is not None :\n",
    "        plt.plot(epochs, val_value, 'r:', label=f'validation {name}')\n",
    "    plt.legend(loc='upper center', bbox_to_anchor=(0.05, 1.2) , fontsize=10 , ncol=1)\n",
    "    \n",
    "def plot_history(history) :\n",
    "    key_list = list(history.history.keys())\n",
    "    key_list.sort()\n",
    "    key_value = list(set([i.split(\"val_\")[-1] for i in key_list]))\n",
    "    plt.figure(figsize=(12, 4))\n",
    "    for idx , key in enumerate(key_value) :\n",
    "        plt.subplot(1, len(key_value), idx+1)\n",
    "        vis(history, key)\n",
    "    plt.tight_layout()\n",
    "    plt.show()"
   ]
  },
  {
   "cell_type": "code",
   "execution_count": 12,
   "id": "e2ee030b",
   "metadata": {
    "scrolled": true
   },
   "outputs": [
    {
     "name": "stdout",
     "output_type": "stream",
     "text": [
      "NUM_CLASS:  5\n",
      "IMG_SHAPE:  (112, 112, 3)\n",
      "WARNING:tensorflow:`input_shape` is undefined or non-square, or `rows` is not in [96, 128, 160, 192, 224]. Weights for input shape (224, 224) will be loaded as the default.\n"
     ]
    },
    {
     "name": "stderr",
     "output_type": "stream",
     "text": [
      "2022-03-23 14:46:53.297680: I tensorflow/core/common_runtime/pluggable_device/pluggable_device_factory.cc:305] Could not identify NUMA node of platform GPU ID 0, defaulting to 0. Your kernel may not have been built with NUMA support.\n",
      "2022-03-23 14:46:53.297708: I tensorflow/core/common_runtime/pluggable_device/pluggable_device_factory.cc:271] Created TensorFlow device (/job:localhost/replica:0/task:0/device:GPU:0 with 0 MB memory) -> physical PluggableDevice (device: 0, name: METAL, pci bus id: <undefined>)\n"
     ]
    }
   ],
   "source": [
    "def mobilenet_occluded_model(input_shape=(112,112,3), num_class = 5, drop=0.2):\n",
    "    \"\"\"\n",
    "    Non-occluded classification model based on MobileNetV2.\n",
    "     Args:\n",
    "         input_shape: the input shape of the model\n",
    "         num_class: number of outputs\n",
    "     Returns:\n",
    "         model: Non-occluded classification model\n",
    "    \"\"\"\n",
    "    act_f = \"swish\"\n",
    "    kernel_reg = tf.keras.regularizers.l2(0.001)\n",
    "    kernel_init = tf.keras.initializers.he_normal(seed=1)\n",
    "    \n",
    "    base_model = tf.keras.applications.MobileNetV2(input_shape=input_shape,\n",
    "                                               include_top=False,\n",
    "                                               weights='imagenet')\n",
    "    \n",
    "    inputs = tf.keras.Input(shape=input_shape)\n",
    "    x_base = base_model(inputs, training=True)\n",
    "    x_avg1 = tf.keras.layers.GlobalAveragePooling2D()(x_base)\n",
    "    \n",
    "    x1 = tf.keras.layers.Dropout(drop)(x_avg1)\n",
    "    x1 = tf.keras.layers.Dense(1024, activation=act_f, kernel_regularizer=kernel_reg, kernel_initializer=kernel_init)(x1)\n",
    "    x1 = tf.keras.layers.Dropout(drop)(x1)\n",
    "    x1 = tf.keras.layers.Dense(512, activation=act_f, kernel_regularizer=kernel_reg, kernel_initializer=kernel_init)(x1)\n",
    "    \n",
    "    outputs1 = tf.keras.layers.Dense(num_class, activation='softmax',name='output_1')(x1)\n",
    "    \n",
    "    model = tf.keras.Model(inputs,outputs1)\n",
    "    \n",
    "    return model\n",
    "\n",
    "NUM_CLASS = train_loader.class_n\n",
    "IMG_SHAPE = (img_size, img_size, 3)\n",
    "\n",
    "print(\"NUM_CLASS: \", NUM_CLASS)\n",
    "print(\"IMG_SHAPE: \", IMG_SHAPE)\n",
    "\n",
    "model = mobilenet_occluded_model(IMG_SHAPE, NUM_CLASS)"
   ]
  },
  {
   "cell_type": "code",
   "execution_count": 13,
   "id": "bcc44bb1",
   "metadata": {},
   "outputs": [],
   "source": [
    "# from tensorflow.keras.models import Model\n",
    "# from tensorflow.keras.layers import Input, Dense, Flatten, Activation,  concatenate, Reshape\n",
    "# from tensorflow.keras.layers import Conv2D, MaxPooling2D, BatchNormalization, Dropout"
   ]
  },
  {
   "cell_type": "code",
   "execution_count": 14,
   "id": "55943b12",
   "metadata": {},
   "outputs": [],
   "source": [
    "# def simplecnn_occluded_model(input_shape=(112,112,3),  num_class=5, drop=0.2):\n",
    "#     \"\"\"\n",
    "#     Non-occluded classification model based on MobileNetV2.\n",
    "#      Args:\n",
    "#          input_shape: the input shape of the model\n",
    "#          num_class: number of outputs\n",
    "#      Returns:\n",
    "#          model: Non-occluded classification model\n",
    "#     \"\"\"\n",
    "    \n",
    "#     act_func = \"swish\"\n",
    "#     kernel_reg = tf.keras.regularizers.l2(0.001)\n",
    "#     kernel_init = tf.keras.initializers.he_normal(seed=1) \n",
    "    \n",
    "#     # Stage 1 #\n",
    "#     img_input = Input(shape=input_shape)\n",
    "    \n",
    "#     ## Block 1 ##\n",
    "#     x = Conv2D(32, (3,3), strides=(1,1), name='base_conv1', kernel_regularizer=kernel_reg, kernel_initializer=kernel_init)(img_input)\n",
    "#     x = BatchNormalization()(x)\n",
    "#     x = Activation(act_func, name='base_conv1_act')(x)\n",
    "#     x = MaxPooling2D(pool_size=(2,2), strides=(2,2), name='base_conv1_pool')(x)\n",
    "\n",
    "#     ## Block 2 ##\n",
    "#     x = Conv2D(64, (3,3), strides=(1,1), name='base_conv2', kernel_regularizer=kernel_reg, kernel_initializer=kernel_init)(x)\n",
    "#     x = BatchNormalization()(x)\n",
    "#     x = Activation(act_func, name='base_conv2_act')(x)\n",
    "#     x = Conv2D(64, (3,3), strides=(1,1), name='base_conv3', kernel_regularizer=kernel_reg, kernel_initializer=kernel_init)(x)\n",
    "#     x = BatchNormalization()(x)\n",
    "#     x = Activation(act_func, name='base_conv3_act')(x)\n",
    "#     x = MaxPooling2D(pool_size=(2,2), strides=(2,2), name='base_conv3_poo1')(x)\n",
    "\n",
    "#     ## Block 3 ##\n",
    "#     x = Conv2D(64, (3,3), strides=(1,1), name='base_conv4', kernel_regularizer=kernel_reg, kernel_initializer=kernel_init)(x)\n",
    "#     x = BatchNormalization()(x)\n",
    "#     x = Activation(act_func, name='base_conv4_act')(x)\n",
    "#     x = Conv2D(64, (3,3), strides=(1,1), name='base_conv5', kernel_regularizer=kernel_reg, kernel_initializer=kernel_init)(x)\n",
    "#     x = BatchNormalization()(x)\n",
    "#     x = Activation(act_func, name='base_conv5_act')(x)\n",
    "#     x = MaxPooling2D(pool_size=(2,2), strides=(2,2), name='base_conv5_poo1')(x)\n",
    "        \n",
    "#     ## Block 4 ##\n",
    "#     x = Conv2D(256, (3,3), strides=(1,1), name='base_conv6', kernel_regularizer=kernel_reg, kernel_initializer=kernel_init)(x)\n",
    "#     x = BatchNormalization()(x)\n",
    "#     x = Activation(act_func, name='base_conv6_act')(x)\n",
    "#     x = Dropout(0.5)(x)\n",
    "    \n",
    "#     ## Block 5 ##\n",
    "#     x = Flatten(name='base_flatten')(x)\n",
    "#     x = Dense(1024, activation=act_func, kernel_regularizer=kernel_reg, kernel_initializer=kernel_init)(x)\n",
    "#     x = Dropout(0.2)(x)\n",
    "    \n",
    "#     x = Dense(512, activation=act_func, kernel_regularizer=kernel_reg, kernel_initializer=kernel_init)(x)\n",
    "#     x = Dropout(0.2)(x)\n",
    "   \n",
    "#     # Activation function을 적용하면 output의 범위를 [0,1]로 제한하게 되므로 \n",
    "#     #x = Dense(output_size, activation=\"sigmoid\", name=\"out1\")(x)\n",
    "#     x = Dense(num_class, activation=\"softmax\", name=\"out1\")(x)\n",
    "#     model = Model(img_input, x)\n",
    "    \n",
    "#     return model\n",
    "\n",
    "\n",
    "# IMG_SHAPE = (img_size, img_size, 3)\n",
    "# NUM_CLASS = train_loader.class_n\n",
    "\n",
    "# model = simplecnn_occluded_model(input_shape=IMG_SHAPE,  num_class=NUM_CLASS)"
   ]
  },
  {
   "cell_type": "code",
   "execution_count": 15,
   "id": "7188e909",
   "metadata": {
    "scrolled": true
   },
   "outputs": [
    {
     "data": {
      "image/png": "[encoded data removed]",
      "text/plain": [
       "<IPython.core.display.Image object>"
      ]
     },
     "execution_count": 15,
     "metadata": {},
     "output_type": "execute_result"
    }
   ],
   "source": [
    "import keras\n",
    "keras.utils.vis_utils.plot_model(model, to_file='./model_structure/mobilenet_occluded_model.png', show_shapes=True, show_layer_names=True)"
   ]
  },
  {
   "cell_type": "code",
   "execution_count": 14,
   "id": "994efeda",
   "metadata": {
    "scrolled": true
   },
   "outputs": [
    {
     "name": "stdout",
     "output_type": "stream",
     "text": [
      "Model: \"model\"\n",
      "_________________________________________________________________\n",
      " Layer (type)                Output Shape              Param #   \n",
      "=================================================================\n",
      " input_2 (InputLayer)        [(None, 112, 112, 3)]     0         \n",
      "                                                                 \n",
      " mobilenetv2_1.00_224 (Funct  (None, 4, 4, 1280)       2257984   \n",
      " ional)                                                          \n",
      "                                                                 \n",
      " global_average_pooling2d (G  (None, 1280)             0         \n",
      " lobalAveragePooling2D)                                          \n",
      "                                                                 \n",
      " dropout (Dropout)           (None, 1280)              0         \n",
      "                                                                 \n",
      " dense (Dense)               (None, 1024)              1311744   \n",
      "                                                                 \n",
      " dropout_1 (Dropout)         (None, 1024)              0         \n",
      "                                                                 \n",
      " dense_1 (Dense)             (None, 512)               524800    \n",
      "                                                                 \n",
      " output_1 (Dense)            (None, 5)                 2565      \n",
      "                                                                 \n",
      "=================================================================\n",
      "Total params: 4,097,093\n",
      "Trainable params: 4,062,981\n",
      "Non-trainable params: 34,112\n",
      "_________________________________________________________________\n"
     ]
    }
   ],
   "source": [
    "# model summary\n",
    "model.summary()"
   ]
  },
  {
   "cell_type": "markdown",
   "id": "5d3df866",
   "metadata": {},
   "source": [
    "## 모델 학습 준비"
   ]
  },
  {
   "cell_type": "code",
   "execution_count": 20,
   "id": "57c05a0c",
   "metadata": {},
   "outputs": [],
   "source": [
    "# model compile\n",
    "\n",
    "opt = tf.keras.optimizers.Adam(learning_rate=1e-3)\n",
    "#opt = tf.keras.optimizers.SGD( lr = 0.01, decay=1e-6, momentum=0.9, nesterov=True, clipnorm=5 )\n",
    "#opt = tf.keras.optimizers.Nadam(lr=0.002, beta_1=0.9, beta_2=0.999, epsilon=1e-08, schedule_decay=0.004)\n",
    "\n",
    "# target이 one-hot encoding인 경우: categorical_crossentropy\n",
    "# target이 int형 레이블인 경우: sparse_categorical_crossentropy\n",
    "model.compile(optimizer=opt, \n",
    "              loss=[\"categorical_crossentropy\"], \n",
    "              metrics=[\"accuracy\"])"
   ]
  },
  {
   "cell_type": "code",
   "execution_count": 16,
   "id": "2b728079",
   "metadata": {
    "scrolled": true
   },
   "outputs": [],
   "source": [
    "# load pre-trained weight\n",
    "if False:  \n",
    "    load_w_path = \"./pre_w/5class_mobilenet_classification_bset_0320_1915.h5\".format(root_dir)\n",
    "    model = tf.keras.models.load_model(load_w_path)\n",
    "    print(\"loaded: \", load_w_path)"
   ]
  },
  {
   "cell_type": "code",
   "execution_count": 22,
   "id": "f0a51ff6",
   "metadata": {
    "scrolled": true
   },
   "outputs": [
    {
     "name": "stdout",
     "output_type": "stream",
     "text": [
      "ckp_filepath:  pre_w/simple_5class_best_0321_2354.h5\n"
     ]
    }
   ],
   "source": [
    "# set checkpoint\n",
    "\n",
    "now = datetime.today().strftime('%m%d_%H%M')\n",
    "ckp_filepath = 'pre_w/simple_5class_best_{}.h5'.format(now)\n",
    "print(\"ckp_filepath: \",ckp_filepath)\n",
    "\n",
    "# ckp_filepath = 'pre_w/5class_sigmoid_0320_940.h5'\n",
    "my_checkpoint = tf.keras.callbacks.ModelCheckpoint(filepath=ckp_filepath, \n",
    "                             monitor=\"val_loss\",\n",
    "                             verbose=2, \n",
    "                             save_best_only=True,\n",
    "                             mode=\"min\")"
   ]
  },
  {
   "cell_type": "markdown",
   "id": "bf43148c",
   "metadata": {},
   "source": [
    "## 학습"
   ]
  },
  {
   "cell_type": "code",
   "execution_count": 19,
   "id": "fe1e9295",
   "metadata": {
    "scrolled": true
   },
   "outputs": [],
   "source": [
    "epochs = 10\n",
    "history = model.fit(train_loader, \n",
    "                   validation_data=val_loader, \n",
    "                   epochs=epochs,\n",
    "                   batch_size=batch_size,\n",
    "                   verbose=0,\n",
    "                   workers=4,# multi로 처리할 개수\n",
    "                   #callbacks=[callback,my_checkpoint],\n",
    "                   #callbacks=[my_checkpoint],\n",
    "                   #class_weight=create_class_weight(class_data_num)\n",
    "                  )"
   ]
  },
  {
   "cell_type": "code",
   "execution_count": null,
   "id": "22fd386a",
   "metadata": {
    "scrolled": false
   },
   "outputs": [],
   "source": [
    "plot_history(history)\n"
   ]
  },
  {
   "cell_type": "markdown",
   "id": "ff837070",
   "metadata": {},
   "source": [
    "---"
   ]
  },
  {
   "cell_type": "markdown",
   "id": "3b5ae5b2",
   "metadata": {},
   "source": [
    "## save model\n"
   ]
  },
  {
   "cell_type": "code",
   "execution_count": 17,
   "id": "0a21918a",
   "metadata": {},
   "outputs": [
    {
     "name": "stdout",
     "output_type": "stream",
     "text": [
      "create directory:  ./train_info/0323_1448\n",
      "save_model_path:  ./train_info/0323_1448/best_model.h5\n",
      "save_class_int2char_path:  ./train_info/0323_1448/class_int2char.pkl\n"
     ]
    }
   ],
   "source": [
    "## load best model\n",
    "load_ckp_filepath = \"./pre_w/mobilenetv2_52_5class_swift_best.loss0.40.h5\" #ckp_filepath \n",
    "load_model=tf.keras.models.load_model(load_ckp_filepath)\n",
    "\n",
    "## save model sturucture and trained weight\n",
    "now = datetime.today().strftime('%m%d_%H%M')\n",
    "\n",
    "save_traininfo_dir = \"./train_info\"\n",
    "save_traininfo_dir = join(save_traininfo_dir, now)\n",
    "create_dir(save_traininfo_dir)\n",
    "\n",
    "save_model_path = join(save_traininfo_dir, \"best_model.h5\")  # ckp_filepath.replace(\"pre_w\",save_traininfo_dir)\n",
    "print(\"save_model_path: \", save_model_path)\n",
    "\n",
    "load_model.save(save_model_path)\n",
    "\n",
    "## save label dictionary\n",
    "import pickle\n",
    "\n",
    "save_class_int2char_path = join(save_traininfo_dir,\"class_int2char.pkl\")\n",
    "print(\"save_class_int2char_path: \",save_class_int2char_path)\n",
    "\n",
    "with open(save_class_int2char_path, 'wb') as handle:\n",
    "    pickle.dump(class_int2char, handle)\n",
    "\n",
    "# with open('filename.pickle', 'rb') as handle:\n",
    "#     b = pickle.load(handle)\n",
    "\n",
    "# print(a == b)"
   ]
  },
  {
   "cell_type": "markdown",
   "id": "0ed568b8",
   "metadata": {},
   "source": [
    "---\n",
    "## Predict"
   ]
  },
  {
   "cell_type": "markdown",
   "id": "74c8c927",
   "metadata": {},
   "source": [
    "### predict from dataset"
   ]
  },
  {
   "cell_type": "code",
   "execution_count": 18,
   "id": "b1eb4487",
   "metadata": {},
   "outputs": [
    {
     "name": "stderr",
     "output_type": "stream",
     "text": [
      "2022-03-23 14:48:40.808878: W tensorflow/core/platform/profile_utils/cpu_utils.cc:128] Failed to get CPU frequency: 0 Hz\n",
      "2022-03-23 14:48:41.177259: I tensorflow/core/grappler/optimizers/custom_graph_optimizer_registry.cc:113] Plugin optimizer for device_type GPU is enabled.\n"
     ]
    },
    {
     "name": "stdout",
     "output_type": "stream",
     "text": [
      "470/470 [==============================] - 23s 48ms/step - loss: 0.0933 - accuracy: 0.9758\n",
      "108/108 [==============================] - 5s 49ms/step - loss: 0.4801 - accuracy: 0.9067\n"
     ]
    }
   ],
   "source": [
    "load_ckp_filepath = \"./train_info/0323_1448/best_model.h5\"#load_ckp_filepath\n",
    "load_model=tf.keras.models.load_model(load_ckp_filepath)\n",
    "\n",
    "evaluate_result = load_model.evaluate(train_loader)\n",
    "evaluate_result = load_model.evaluate(val_loader)\n",
    "\n"
   ]
  },
  {
   "cell_type": "code",
   "execution_count": null,
   "id": "4d897370",
   "metadata": {
    "scrolled": false
   },
   "outputs": [],
   "source": [
    "# show dataset\n",
    "\n",
    "n_batch = next(iter(test_loader))\n",
    "x, y = n_batch\n",
    "\n",
    "p_label = load_model.predict(x)\n",
    "r_idx = random.randint(0,len(x)-1)\n",
    "\n",
    "file_name = test_loader.batch_fn[r_idx]\n",
    "print(\"file_name: \", file_name)\n",
    "\n",
    "plt.imshow(x[r_idx])\n",
    "plt.show()\n",
    "\n",
    "if multi_output:\n",
    "    label_class = p_label[0][r_idx]\n",
    "    label_img = p_label[1][r_idx].reshape(out_size,out_size)\n",
    "    plt.imshow(label_img)\n",
    "    plt.show()\n",
    "else:\n",
    "    label_class = p_label[r_idx]\n",
    "    \n",
    "print(\"class: \", class_int2char[np.argmax(label_class)])\n",
    "train_loader.on_epoch_end()\n",
    "\n",
    "\n"
   ]
  },
  {
   "cell_type": "markdown",
   "id": "17eaab2a",
   "metadata": {},
   "source": [
    "---\n",
    "### predict from local image"
   ]
  },
  {
   "cell_type": "code",
   "execution_count": 20,
   "id": "9e369491",
   "metadata": {},
   "outputs": [],
   "source": [
    "def img_2_inputx(img, input_shape):\n",
    "    \"\"\"\n",
    "    convert opencv image to input x\n",
    "    Args:\n",
    "        img: opencv image\n",
    "    Returns:\n",
    "        input_x: model input x\n",
    "    \"\"\"\n",
    "    img = cv2.resize(img,input_shape)\n",
    "    img = cv2.cvtColor(img, cv2.COLOR_BGR2RGB) #-0.5\n",
    "    input_x = np.expand_dims(img,axis=0)/255.\n",
    "    return input_x"
   ]
  },
  {
   "cell_type": "code",
   "execution_count": null,
   "id": "4c707091",
   "metadata": {
    "scrolled": true
   },
   "outputs": [],
   "source": [
    "sample_img_path = './data/face_datasets_5/test/a0/sample.jpg'\n",
    "sample_img = cv2.imread(sample_img_path)\n",
    "sample_x = img_2_inputx(sample_img, (img_size,img_size))\n",
    "\n",
    "p_arr = load_model.predict(sample_x)\n",
    "\n",
    "plt.imshow(sample_img)\n",
    "plt.show()\n",
    "\n",
    "if multi_output:\n",
    "    label_class = p_label[0][0]\n",
    "    label_img = p_label[1][0].reshape(out_size,out_size)\n",
    "    plt.imshow(label_img)\n",
    "    plt.show()\n",
    "else:\n",
    "    label_class = p_label[0]\n",
    "\n",
    "print(\"class: \", class_int2char[np.argmax(label_class)], np.max(label_class))"
   ]
  },
  {
   "cell_type": "markdown",
   "id": "04943f93",
   "metadata": {},
   "source": [
    "### Incorrect data view"
   ]
  },
  {
   "cell_type": "code",
   "execution_count": null,
   "id": "e2300ebb",
   "metadata": {
    "scrolled": false
   },
   "outputs": [],
   "source": [
    "# predict test dataset\n",
    "# Check incorrect data\n",
    "predicted_result = load_model.predict(test_loader)\n",
    "predicted_labels = np.argmax(predicted_result, axis=1)\n",
    "\n",
    "class_char2int = test_loader.class_char2int\n",
    "test_labels = [class_char2int[x.split(\"/\")[-2]] for x in (test_loader.file_list)]\n",
    "\n",
    "wrong_result = []\n",
    "\n",
    "for n in range(0, len(test_labels)):\n",
    "    if predicted_labels[n] != test_labels[n]:\n",
    "        wrong_result.append(n)\n",
    "print(\"wrong_result rate: {}, amount: {}\".format(len(wrong_result)/(test_loader.file_n), len(wrong_result)))\n",
    "\n",
    "random.shuffle(wrong_result)\n",
    "samples = wrong_result[:min(16,len(wrong_result))]#random.choices(population=wrong_result, k=min(16,len(wrong_result)))\n",
    "\n",
    "count = 0\n",
    "nrows = ncols = 4\n",
    "\n",
    "print(\"y: label, p: predict, c:confidence\")\n",
    "plt.figure(figsize=(12,8))\n",
    "for n in samples:\n",
    "    count += 1\n",
    "    plt.subplot(nrows, ncols, count)\n",
    "    x_data = cv2.imread(test_loader.file_list[n])\n",
    "    x_data = cv2.cvtColor(x_data, cv2.COLOR_BGR2RGB)\n",
    "    plt.imshow(x_data, cmap='Greys', interpolation='nearest')\n",
    "    \n",
    "    conf = round(predicted_result[n][predicted_labels[n]],2)\n",
    "    \n",
    "    t_label = class_int2char[test_labels[n]]\n",
    "    p_label = class_int2char[predicted_labels[n]]\n",
    "    tmp = \"y:\" + str(t_label) + \", p:\" + str(p_label) +\", c:\" +str(conf)\n",
    "    plt.title(tmp)\n",
    "\n",
    "plt.tight_layout()\n",
    "plt.show()"
   ]
  },
  {
   "cell_type": "markdown",
   "id": "cd574587",
   "metadata": {},
   "source": [
    "---\n",
    "# convert tfilte"
   ]
  },
  {
   "cell_type": "code",
   "execution_count": 60,
   "id": "c5a000ed",
   "metadata": {},
   "outputs": [],
   "source": [
    "from os.path import join\n",
    "\n",
    "import pickle\n",
    "import cv2\n",
    "import numpy as np\n",
    "\n",
    "import matplotlib.pyplot as plt"
   ]
  },
  {
   "cell_type": "code",
   "execution_count": 61,
   "id": "83b366f9",
   "metadata": {},
   "outputs": [],
   "source": [
    "import tensorflow as tf"
   ]
  },
  {
   "cell_type": "code",
   "execution_count": 62,
   "id": "c45341f3",
   "metadata": {},
   "outputs": [],
   "source": [
    "def img_2_inputx(img, input_shape):\n",
    "    \"\"\"\n",
    "    convert opencv image to input x\n",
    "    Args:\n",
    "        img: opencv image\n",
    "    Returns:\n",
    "        input_x: model input x\n",
    "    \"\"\"\n",
    "    img = cv2.resize(img,input_shape)\n",
    "    img = cv2.cvtColor(img, cv2.COLOR_BGR2RGB) #-0.5\n",
    "    input_x = np.expand_dims(img,axis=0)/255.\n",
    "    return input_x"
   ]
  },
  {
   "cell_type": "code",
   "execution_count": 63,
   "id": "9a01d06e",
   "metadata": {
    "scrolled": true
   },
   "outputs": [
    {
     "name": "stdout",
     "output_type": "stream",
     "text": [
      "INFO:tensorflow:Assets written to: /var/folders/72/0l8b72dx32scxt2bd_r2kf900000gn/T/tmpkbf91ncs/assets\n"
     ]
    },
    {
     "name": "stderr",
     "output_type": "stream",
     "text": [
      "INFO:tensorflow:Assets written to: /var/folders/72/0l8b72dx32scxt2bd_r2kf900000gn/T/tmpkbf91ncs/assets\n",
      "2022-03-23 00:07:54.844178: W tensorflow/compiler/mlir/lite/python/tf_tfl_flatbuffer_helpers.cc:357] Ignored output_format.\n",
      "2022-03-23 00:07:54.844192: W tensorflow/compiler/mlir/lite/python/tf_tfl_flatbuffer_helpers.cc:360] Ignored drop_control_dependency.\n",
      "WARNING:absl:Buffer deduplication procedure will be skipped when flatbuffer library is not properly loaded\n",
      "2022-03-23 00:07:54.844276: I tensorflow/cc/saved_model/reader.cc:43] Reading SavedModel from: /var/folders/72/0l8b72dx32scxt2bd_r2kf900000gn/T/tmpkbf91ncs\n",
      "2022-03-23 00:07:54.862972: I tensorflow/cc/saved_model/reader.cc:78] Reading meta graph with tags { serve }\n",
      "2022-03-23 00:07:54.862989: I tensorflow/cc/saved_model/reader.cc:119] Reading SavedModel debug info (if present) from: /var/folders/72/0l8b72dx32scxt2bd_r2kf900000gn/T/tmpkbf91ncs\n",
      "2022-03-23 00:07:54.931251: I tensorflow/cc/saved_model/loader.cc:228] Restoring SavedModel bundle.\n",
      "2022-03-23 00:07:55.387475: I tensorflow/cc/saved_model/loader.cc:212] Running initialization op on SavedModel bundle at path: /var/folders/72/0l8b72dx32scxt2bd_r2kf900000gn/T/tmpkbf91ncs\n",
      "2022-03-23 00:07:55.512631: I tensorflow/cc/saved_model/loader.cc:301] SavedModel load for tags { serve }; Status: success: OK. Took 668355 microseconds.\n"
     ]
    }
   ],
   "source": [
    "# load_ckp_filepath = \"/Users/hy_mac/Project/kakaopay/occluded_face_project/pre_w/mobilenet_5class_best_0320_2224.h5\"#ckp_filepath \n",
    "load_model = tf.keras.models.load_model(load_ckp_filepath)\n",
    "\n",
    "load_model.trainable=False\n",
    "converter = tf.lite.TFLiteConverter.from_keras_model(load_model)\n",
    "tflite_model = converter.convert()\n",
    "\n"
   ]
  },
  {
   "cell_type": "code",
   "execution_count": 64,
   "id": "848ef1df",
   "metadata": {},
   "outputs": [
    {
     "name": "stdout",
     "output_type": "stream",
     "text": [
      "class_int2char:  {0: 'a0', 1: 'b1', 2: 'bc1', 3: 'bg', 4: 'c1'}\n"
     ]
    }
   ],
   "source": [
    "# Save tflite.\n",
    "save_traininfo_dir =\"./train_info/0322_2340/\"\n",
    "tflite_model_path = join(save_traininfo_dir, \"best_model.tflite\")\n",
    "with open(tflite_model_path, 'wb') as f:\n",
    "    f.write(tflite_model)\n",
    "    \n",
    "load_traininfo_dir = save_traininfo_dir\n",
    "load_class_int2char_path = join(load_traininfo_dir,\"class_int2char.pkl\")\n",
    "# class_int2char = {0: 'a0', 1: 'b1', 2: 'bc1', 3: 'bg', 4: 'c1'}\n",
    "with open(load_class_int2char_path, 'rb') as handle:\n",
    "    class_int2char = pickle.load(handle)\n",
    "print(\"class_int2char: \", class_int2char)\n",
    "\n",
    "model_content = True\n",
    "if model_content:\n",
    "    interpreter = tf.lite.Interpreter(model_content=tflite_model)\n",
    "else:\n",
    "    interpreter = tf.lite.Interpreter(model_path=tflite_model_path)\n",
    "    \n",
    "interpreter.allocate_tensors()\n",
    "\n",
    "input1 = interpreter.get_input_details()[0]  # Model has single input.\n",
    "output = interpreter.get_output_details()[0]  # Model has single output.\n"
   ]
  },
  {
   "cell_type": "code",
   "execution_count": null,
   "id": "bad0992f",
   "metadata": {
    "scrolled": true
   },
   "outputs": [],
   "source": [
    "img_size = 112\n",
    "sample_img = cv2.imread('./face_datasets_4/test/b1/sample.jpg')\n",
    "input_data = img_2_inputx(sample_img, (img_size,img_size))\n",
    "input_data = np.array(input_data, dtype=np.float32)\n",
    "interpreter.set_tensor(input1['index'], input_data)\n",
    "interpreter.invoke()\n",
    "\n",
    "plt.imshow(sample_img)\n",
    "plt.show()\n",
    "\n",
    "# out_predict = interpreter.get_tensor(output[1]['index'])\n",
    "out_predict = interpreter.get_tensor(output['index'])\n",
    "label_class = out_predict[0]\n",
    "print(\"class: \", class_int2char[np.argmax(label_class)])"
   ]
  },
  {
   "cell_type": "markdown",
   "id": "193367ac",
   "metadata": {},
   "source": [
    "---\n",
    "\n",
    "## TFLite accuracy drops"
   ]
  },
  {
   "cell_type": "code",
   "execution_count": 66,
   "id": "8b18f370",
   "metadata": {},
   "outputs": [],
   "source": [
    "from tqdm import tqdm"
   ]
  },
  {
   "cell_type": "code",
   "execution_count": 67,
   "id": "6c82c0d4",
   "metadata": {},
   "outputs": [],
   "source": [
    "# Referred from: https://www.tensorflow.org/lite/performance/post_training_integer_quant\n",
    "def evaluate_model(interpreter, validation_ds):\n",
    "    accurate_count = 0\n",
    "\n",
    "    input_index = interpreter.get_input_details()[0][\"index\"]\n",
    "    output_index = interpreter.get_output_details()[0][\"index\"]\n",
    "\n",
    "    # Run predictions on every image in the \"test\" dataset.\n",
    "    predictions = []\n",
    "    for (val_images, val_labels) in tqdm(validation_ds):\n",
    "        for val_image, val_label in zip(val_images, val_labels):\n",
    "            val_image = tf.expand_dims(val_image, 0)\n",
    "            input_data = np.array(val_image, dtype=np.float32)\n",
    "            interpreter.set_tensor(input_index, input_data)\n",
    "\n",
    "            # Run inference.\n",
    "            interpreter.invoke()\n",
    "\n",
    "            # Post-processing: remove batch dimension and find the digit with highest\n",
    "            # probability.\n",
    "            probability = interpreter.get_tensor(output_index)\n",
    "            predict_idx = np.argmax(probability[0])\n",
    "            predictions.append(predict_idx)\n",
    "            \n",
    "            val_idx = np.argmax(val_label)\n",
    "            #print(\"val_idx\",val_idx)\n",
    "            #print(\"predict_idx\",predict_idx)\n",
    "            # Compare prediction results with ground truth labels to calculate accuracy.\n",
    "            if predict_idx == val_idx:\n",
    "                accurate_count += 1\n",
    "    \n",
    "    accuracy = accurate_count * 1.0 / len(predictions)\n",
    "\n",
    "    return accuracy"
   ]
  },
  {
   "cell_type": "code",
   "execution_count": 68,
   "id": "ca7fa9c8",
   "metadata": {},
   "outputs": [
    {
     "name": "stderr",
     "output_type": "stream",
     "text": [
      "100%|███████████████████████████████████████| 470/470 [01:37<00:00,  4.83it/s]\n"
     ]
    },
    {
     "name": "stdout",
     "output_type": "stream",
     "text": [
      "tflite_train_acc is 0.8712858094603597\n"
     ]
    },
    {
     "name": "stderr",
     "output_type": "stream",
     "text": [
      "100%|███████████████████████████████████████| 108/108 [00:21<00:00,  5.14it/s]"
     ]
    },
    {
     "name": "stdout",
     "output_type": "stream",
     "text": [
      "tflite_val_acc is 0.8908195771792644\n"
     ]
    },
    {
     "name": "stderr",
     "output_type": "stream",
     "text": [
      "\n"
     ]
    }
   ],
   "source": [
    "tflite_train_acc = evaluate_model(interpreter, train_loader)\n",
    "print(\"tflite_train_acc is {}\".format(tflite_train_acc))\n",
    "\n",
    "tflite_val_acc = evaluate_model(interpreter, val_loader)\n",
    "print(\"tflite_val_acc is {}\".format(tflite_val_acc))"
   ]
  },
  {
   "cell_type": "code",
   "execution_count": null,
   "id": "bf09d234",
   "metadata": {},
   "outputs": [],
   "source": []
  }
 ],
 "metadata": {
  "kernelspec": {
   "display_name": "Python 3 (ipykernel)",
   "language": "python",
   "name": "python3"
  },
  "language_info": {
   "codemirror_mode": {
    "name": "ipython",
    "version": 3
   },
   "file_extension": ".py",
   "mimetype": "text/x-python",
   "name": "python",
   "nbconvert_exporter": "python",
   "pygments_lexer": "ipython3",
   "version": "3.8.12"
  }
 },
 "nbformat": 4,
 "nbformat_minor": 5
}
