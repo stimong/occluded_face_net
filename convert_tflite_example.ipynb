{
 "cells": [
  {
   "cell_type": "markdown",
   "id": "16e6d199",
   "metadata": {},
   "source": [
    "# h5 모델을 tflite 변환 예제"
   ]
  },
  {
   "cell_type": "code",
   "execution_count": null,
   "id": "69664a0e",
   "metadata": {},
   "outputs": [],
   "source": [
    "from os.path import join\n",
    "\n",
    "import pickle\n",
    "import cv2\n",
    "import numpy as np\n",
    "\n",
    "import matplotlib.pyplot as plt\n",
    "\n",
    "import tensorflow as tf"
   ]
  },
  {
   "cell_type": "code",
   "execution_count": null,
   "id": "9efa9489",
   "metadata": {},
   "outputs": [],
   "source": [
    "def img_2_inputx(img, input_shape):\n",
    "    \"\"\"\n",
    "    convert opencv image to input x\n",
    "    Args:\n",
    "        img: opencv image\n",
    "    Returns:\n",
    "        input_x: model input x\n",
    "    \"\"\"\n",
    "    img = cv2.resize(img,input_shape)\n",
    "    img = cv2.cvtColor(img, cv2.COLOR_BGR2RGB) #-0.5\n",
    "    input_x = np.expand_dims(img,axis=0)/255.\n",
    "    return input_x"
   ]
  },
  {
   "cell_type": "code",
   "execution_count": null,
   "id": "86ba5b77",
   "metadata": {},
   "outputs": [],
   "source": [
    "load_ckp_filepath = \"./train_info/0322_0058/best_model.h5\"  #ckp_filepath \n",
    "load_model = tf.keras.models.load_model(load_ckp_filepath)\n",
    "\n",
    "load_model.trainable=False\n",
    "converter = tf.lite.TFLiteConverter.from_keras_model(load_model)\n",
    "tflite_model = converter.convert()\n",
    "\n"
   ]
  },
  {
   "cell_type": "code",
   "execution_count": null,
   "id": "73ba638b",
   "metadata": {},
   "outputs": [],
   "source": [
    "# Save tflite.\n",
    "save_traininfo_dir =\"./train_info/0322_0058/\"\n",
    "tflite_model_path = join(save_traininfo_dir, \"best_model.tflite\")\n",
    "print(\"tflite_model_path: \", tflite_model_path)\n",
    "with open(tflite_model_path, 'wb') as f:\n",
    "    f.write(tflite_model)\n",
    "    \n",
    "load_traininfo_dir = save_traininfo_dir\n",
    "load_class_int2char_path = join(load_traininfo_dir,\"class_int2char.pkl\")\n",
    "# class_int2char = {0: 'a0', 1: 'b1', 2: 'bc1', 3: 'bg', 4: 'c1'}\n",
    "with open(load_class_int2char_path, 'rb') as handle:\n",
    "    class_int2char = pickle.load(handle)\n",
    "print(\"class_int2char: \", class_int2char)\n",
    "\n",
    "model_content = True\n",
    "if model_content:\n",
    "    interpreter = tf.lite.Interpreter(model_content=tflite_model)\n",
    "else:\n",
    "    interpreter = tf.lite.Interpreter(model_path=tflite_model_path)\n",
    "    \n",
    "interpreter.allocate_tensors()\n",
    "\n",
    "input1 = interpreter.get_input_details()[0]  # Model has single input.\n",
    "output = interpreter.get_output_details()[0]  # Model has single output."
   ]
  },
  {
   "cell_type": "code",
   "execution_count": null,
   "id": "22313cc1",
   "metadata": {},
   "outputs": [],
   "source": [
    "img_size = 112\n",
    "sample_img = cv2.imread('./data/face_datasets_5/test/b1/sample.jpg')\n",
    "\n",
    "input_data = img_2_inputx(sample_img, (img_size,img_size))\n",
    "input_data = np.array(input_data, dtype=np.float32)\n",
    "interpreter.set_tensor(input1['index'], input_data)\n",
    "interpreter.invoke()\n",
    "\n",
    "plt.imshow(sample_img)\n",
    "plt.show()\n",
    "\n",
    "# out_predict = interpreter.get_tensor(output[1]['index'])\n",
    "out_predict = interpreter.get_tensor(output['index'])\n",
    "label_class = out_predict[0]\n",
    "print(\"class: \", class_int2char[np.argmax(label_class)])"
   ]
  }
 ],
 "metadata": {
  "kernelspec": {
   "display_name": "Python 3 (ipykernel)",
   "language": "python",
   "name": "python3"
  },
  "language_info": {
   "codemirror_mode": {
    "name": "ipython",
    "version": 3
   },
   "file_extension": ".py",
   "mimetype": "text/x-python",
   "name": "python",
   "nbconvert_exporter": "python",
   "pygments_lexer": "ipython3",
   "version": "3.8.12"
  }
 },
 "nbformat": 4,
 "nbformat_minor": 5
}
